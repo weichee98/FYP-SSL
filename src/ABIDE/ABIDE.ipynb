{
 "metadata": {
  "language_info": {
   "codemirror_mode": {
    "name": "ipython",
    "version": 3
   },
   "file_extension": ".py",
   "mimetype": "text/x-python",
   "name": "python",
   "nbconvert_exporter": "python",
   "pygments_lexer": "ipython3",
   "version": "3.8.11"
  },
  "orig_nbformat": 4,
  "kernelspec": {
   "name": "python3",
   "display_name": "Python 3.8.11 64-bit ('fypssl': conda)"
  },
  "interpreter": {
   "hash": "719131a564c75c081c9728f8567a28eb158dfc430ff7e4691c7570bb7e9b5d5e"
  }
 },
 "nbformat": 4,
 "nbformat_minor": 2,
 "cells": [
  {
   "cell_type": "code",
   "execution_count": 1,
   "metadata": {},
   "outputs": [],
   "source": [
    "import os\n",
    "import pandas as pd"
   ]
  },
  {
   "cell_type": "code",
   "execution_count": 2,
   "metadata": {},
   "outputs": [],
   "source": [
    "main_dir = \"/data/data_repo/neuro_img/ABIDE\"\n",
    "corr_mat_dir = os.path.join(main_dir, \"fmri\", \"processed_corr_mat\")\n",
    "meta_csv_path = os.path.join(main_dir, \"meta\", \"Phenotypic_V1_0b_preprocessed1.csv\")"
   ]
  },
  {
   "cell_type": "code",
   "execution_count": 3,
   "metadata": {},
   "outputs": [
    {
     "output_type": "execute_result",
     "data": {
      "text/plain": [
       "   SUB_ID  X SITE_ID       FILE_ID  DX_GROUP  DSM_IV_TR  AGE_AT_SCAN  SEX  \\\n",
       "0   50002  1    PITT   no_filename         1          1        16.77    1   \n",
       "1   50003  2    PITT  Pitt_0050003         1          1        24.45    1   \n",
       "2   50004  3    PITT  Pitt_0050004         1          1        19.09    1   \n",
       "3   50005  4    PITT  Pitt_0050005         1          1        13.73    2   \n",
       "4   50006  5    PITT  Pitt_0050006         1          1        13.37    1   \n",
       "\n",
       "  HANDEDNESS_CATEGORY  HANDEDNESS_SCORES  ...  qc_notes_rater_1  \\\n",
       "0                Ambi                NaN  ...               NaN   \n",
       "1                   R                NaN  ...               NaN   \n",
       "2                   R                NaN  ...               NaN   \n",
       "3                   R                NaN  ...               NaN   \n",
       "4                   L                NaN  ...               NaN   \n",
       "\n",
       "   qc_anat_rater_2  qc_anat_notes_rater_2 qc_func_rater_2  \\\n",
       "0               OK                    NaN            fail   \n",
       "1               OK                    NaN              OK   \n",
       "2               OK                    NaN              OK   \n",
       "3               OK                    NaN           maybe   \n",
       "4               OK                    NaN           maybe   \n",
       "\n",
       "    qc_func_notes_rater_2 qc_anat_rater_3  qc_anat_notes_rater_3  \\\n",
       "0  ic-parietal-cerebellum              OK                    NaN   \n",
       "1                     NaN              OK                    NaN   \n",
       "2                     NaN              OK                    NaN   \n",
       "3  ic-parietal-cerebellum              OK                    NaN   \n",
       "4      ic-parietal slight              OK                    NaN   \n",
       "\n",
       "   qc_func_rater_3  qc_func_notes_rater_3  SUB_IN_SMP  \n",
       "0             fail              ERROR #24           1  \n",
       "1               OK                    NaN           1  \n",
       "2               OK                    NaN           1  \n",
       "3               OK                    NaN           0  \n",
       "4               OK                    NaN           1  \n",
       "\n",
       "[5 rows x 103 columns]"
      ],
      "text/html": "<div>\n<style scoped>\n    .dataframe tbody tr th:only-of-type {\n        vertical-align: middle;\n    }\n\n    .dataframe tbody tr th {\n        vertical-align: top;\n    }\n\n    .dataframe thead th {\n        text-align: right;\n    }\n</style>\n<table border=\"1\" class=\"dataframe\">\n  <thead>\n    <tr style=\"text-align: right;\">\n      <th></th>\n      <th>SUB_ID</th>\n      <th>X</th>\n      <th>SITE_ID</th>\n      <th>FILE_ID</th>\n      <th>DX_GROUP</th>\n      <th>DSM_IV_TR</th>\n      <th>AGE_AT_SCAN</th>\n      <th>SEX</th>\n      <th>HANDEDNESS_CATEGORY</th>\n      <th>HANDEDNESS_SCORES</th>\n      <th>...</th>\n      <th>qc_notes_rater_1</th>\n      <th>qc_anat_rater_2</th>\n      <th>qc_anat_notes_rater_2</th>\n      <th>qc_func_rater_2</th>\n      <th>qc_func_notes_rater_2</th>\n      <th>qc_anat_rater_3</th>\n      <th>qc_anat_notes_rater_3</th>\n      <th>qc_func_rater_3</th>\n      <th>qc_func_notes_rater_3</th>\n      <th>SUB_IN_SMP</th>\n    </tr>\n  </thead>\n  <tbody>\n    <tr>\n      <th>0</th>\n      <td>50002</td>\n      <td>1</td>\n      <td>PITT</td>\n      <td>no_filename</td>\n      <td>1</td>\n      <td>1</td>\n      <td>16.77</td>\n      <td>1</td>\n      <td>Ambi</td>\n      <td>NaN</td>\n      <td>...</td>\n      <td>NaN</td>\n      <td>OK</td>\n      <td>NaN</td>\n      <td>fail</td>\n      <td>ic-parietal-cerebellum</td>\n      <td>OK</td>\n      <td>NaN</td>\n      <td>fail</td>\n      <td>ERROR #24</td>\n      <td>1</td>\n    </tr>\n    <tr>\n      <th>1</th>\n      <td>50003</td>\n      <td>2</td>\n      <td>PITT</td>\n      <td>Pitt_0050003</td>\n      <td>1</td>\n      <td>1</td>\n      <td>24.45</td>\n      <td>1</td>\n      <td>R</td>\n      <td>NaN</td>\n      <td>...</td>\n      <td>NaN</td>\n      <td>OK</td>\n      <td>NaN</td>\n      <td>OK</td>\n      <td>NaN</td>\n      <td>OK</td>\n      <td>NaN</td>\n      <td>OK</td>\n      <td>NaN</td>\n      <td>1</td>\n    </tr>\n    <tr>\n      <th>2</th>\n      <td>50004</td>\n      <td>3</td>\n      <td>PITT</td>\n      <td>Pitt_0050004</td>\n      <td>1</td>\n      <td>1</td>\n      <td>19.09</td>\n      <td>1</td>\n      <td>R</td>\n      <td>NaN</td>\n      <td>...</td>\n      <td>NaN</td>\n      <td>OK</td>\n      <td>NaN</td>\n      <td>OK</td>\n      <td>NaN</td>\n      <td>OK</td>\n      <td>NaN</td>\n      <td>OK</td>\n      <td>NaN</td>\n      <td>1</td>\n    </tr>\n    <tr>\n      <th>3</th>\n      <td>50005</td>\n      <td>4</td>\n      <td>PITT</td>\n      <td>Pitt_0050005</td>\n      <td>1</td>\n      <td>1</td>\n      <td>13.73</td>\n      <td>2</td>\n      <td>R</td>\n      <td>NaN</td>\n      <td>...</td>\n      <td>NaN</td>\n      <td>OK</td>\n      <td>NaN</td>\n      <td>maybe</td>\n      <td>ic-parietal-cerebellum</td>\n      <td>OK</td>\n      <td>NaN</td>\n      <td>OK</td>\n      <td>NaN</td>\n      <td>0</td>\n    </tr>\n    <tr>\n      <th>4</th>\n      <td>50006</td>\n      <td>5</td>\n      <td>PITT</td>\n      <td>Pitt_0050006</td>\n      <td>1</td>\n      <td>1</td>\n      <td>13.37</td>\n      <td>1</td>\n      <td>L</td>\n      <td>NaN</td>\n      <td>...</td>\n      <td>NaN</td>\n      <td>OK</td>\n      <td>NaN</td>\n      <td>maybe</td>\n      <td>ic-parietal slight</td>\n      <td>OK</td>\n      <td>NaN</td>\n      <td>OK</td>\n      <td>NaN</td>\n      <td>1</td>\n    </tr>\n  </tbody>\n</table>\n<p>5 rows × 103 columns</p>\n</div>"
     },
     "metadata": {},
     "execution_count": 3
    }
   ],
   "source": [
    "meta_df = pd.read_csv(meta_csv_path, index_col=0)\n",
    "meta_df = meta_df.drop([\"Unnamed: 0.1\", \"subject\"], axis=1)\n",
    "meta_df.head()"
   ]
  },
  {
   "source": [
    "DX_GROUP:\n",
    "- 1: Diseased\n",
    "- 2: Normal\n",
    "\n",
    "SEX:\n",
    "- 1: Male\n",
    "- 2: Female"
   ],
   "cell_type": "markdown",
   "metadata": {}
  },
  {
   "cell_type": "code",
   "execution_count": 4,
   "metadata": {},
   "outputs": [
    {
     "output_type": "execute_result",
     "data": {
      "text/plain": [
       "SEX                   1     2\n",
       "SITE_ID  DX_GROUP            \n",
       "CALTECH  1         15.0   4.0\n",
       "         2         15.0   4.0\n",
       "CMU      1         11.0   3.0\n",
       "         2         10.0   3.0\n",
       "KKI      1         18.0   4.0\n",
       "         2         24.0   9.0\n",
       "LEUVEN_1 1         14.0   NaN\n",
       "         2         15.0   NaN\n",
       "LEUVEN_2 1         12.0   3.0\n",
       "         2         15.0   5.0\n",
       "MAX_MUN  1         21.0   3.0\n",
       "         2         29.0   4.0\n",
       "NYU      1         68.0  11.0\n",
       "         2         79.0  26.0\n",
       "OHSU     1         13.0   NaN\n",
       "         2         15.0   NaN\n",
       "OLIN     1         17.0   3.0\n",
       "         2         14.0   2.0\n",
       "PITT     1         26.0   4.0\n",
       "         2         23.0   4.0\n",
       "SBL      1         15.0   NaN\n",
       "         2         15.0   NaN\n",
       "SDSU     1         13.0   1.0\n",
       "         2         16.0   6.0\n",
       "STANFORD 1         16.0   4.0\n",
       "         2         16.0   4.0\n",
       "TRINITY  1         24.0   NaN\n",
       "         2         25.0   NaN\n",
       "UCLA_1   1         42.0   7.0\n",
       "         2         29.0   4.0\n",
       "UCLA_2   1         13.0   NaN\n",
       "         2         12.0   2.0\n",
       "UM_1     1         46.0   9.0\n",
       "         2         38.0  17.0\n",
       "UM_2     1         12.0   1.0\n",
       "         2         21.0   1.0\n",
       "USM      1         58.0   NaN\n",
       "         2         43.0   NaN\n",
       "YALE     1         20.0   8.0\n",
       "         2         20.0   8.0"
      ],
      "text/html": "<div>\n<style scoped>\n    .dataframe tbody tr th:only-of-type {\n        vertical-align: middle;\n    }\n\n    .dataframe tbody tr th {\n        vertical-align: top;\n    }\n\n    .dataframe thead th {\n        text-align: right;\n    }\n</style>\n<table border=\"1\" class=\"dataframe\">\n  <thead>\n    <tr style=\"text-align: right;\">\n      <th></th>\n      <th>SEX</th>\n      <th>1</th>\n      <th>2</th>\n    </tr>\n    <tr>\n      <th>SITE_ID</th>\n      <th>DX_GROUP</th>\n      <th></th>\n      <th></th>\n    </tr>\n  </thead>\n  <tbody>\n    <tr>\n      <th rowspan=\"2\" valign=\"top\">CALTECH</th>\n      <th>1</th>\n      <td>15.0</td>\n      <td>4.0</td>\n    </tr>\n    <tr>\n      <th>2</th>\n      <td>15.0</td>\n      <td>4.0</td>\n    </tr>\n    <tr>\n      <th rowspan=\"2\" valign=\"top\">CMU</th>\n      <th>1</th>\n      <td>11.0</td>\n      <td>3.0</td>\n    </tr>\n    <tr>\n      <th>2</th>\n      <td>10.0</td>\n      <td>3.0</td>\n    </tr>\n    <tr>\n      <th rowspan=\"2\" valign=\"top\">KKI</th>\n      <th>1</th>\n      <td>18.0</td>\n      <td>4.0</td>\n    </tr>\n    <tr>\n      <th>2</th>\n      <td>24.0</td>\n      <td>9.0</td>\n    </tr>\n    <tr>\n      <th rowspan=\"2\" valign=\"top\">LEUVEN_1</th>\n      <th>1</th>\n      <td>14.0</td>\n      <td>NaN</td>\n    </tr>\n    <tr>\n      <th>2</th>\n      <td>15.0</td>\n      <td>NaN</td>\n    </tr>\n    <tr>\n      <th rowspan=\"2\" valign=\"top\">LEUVEN_2</th>\n      <th>1</th>\n      <td>12.0</td>\n      <td>3.0</td>\n    </tr>\n    <tr>\n      <th>2</th>\n      <td>15.0</td>\n      <td>5.0</td>\n    </tr>\n    <tr>\n      <th rowspan=\"2\" valign=\"top\">MAX_MUN</th>\n      <th>1</th>\n      <td>21.0</td>\n      <td>3.0</td>\n    </tr>\n    <tr>\n      <th>2</th>\n      <td>29.0</td>\n      <td>4.0</td>\n    </tr>\n    <tr>\n      <th rowspan=\"2\" valign=\"top\">NYU</th>\n      <th>1</th>\n      <td>68.0</td>\n      <td>11.0</td>\n    </tr>\n    <tr>\n      <th>2</th>\n      <td>79.0</td>\n      <td>26.0</td>\n    </tr>\n    <tr>\n      <th rowspan=\"2\" valign=\"top\">OHSU</th>\n      <th>1</th>\n      <td>13.0</td>\n      <td>NaN</td>\n    </tr>\n    <tr>\n      <th>2</th>\n      <td>15.0</td>\n      <td>NaN</td>\n    </tr>\n    <tr>\n      <th rowspan=\"2\" valign=\"top\">OLIN</th>\n      <th>1</th>\n      <td>17.0</td>\n      <td>3.0</td>\n    </tr>\n    <tr>\n      <th>2</th>\n      <td>14.0</td>\n      <td>2.0</td>\n    </tr>\n    <tr>\n      <th rowspan=\"2\" valign=\"top\">PITT</th>\n      <th>1</th>\n      <td>26.0</td>\n      <td>4.0</td>\n    </tr>\n    <tr>\n      <th>2</th>\n      <td>23.0</td>\n      <td>4.0</td>\n    </tr>\n    <tr>\n      <th rowspan=\"2\" valign=\"top\">SBL</th>\n      <th>1</th>\n      <td>15.0</td>\n      <td>NaN</td>\n    </tr>\n    <tr>\n      <th>2</th>\n      <td>15.0</td>\n      <td>NaN</td>\n    </tr>\n    <tr>\n      <th rowspan=\"2\" valign=\"top\">SDSU</th>\n      <th>1</th>\n      <td>13.0</td>\n      <td>1.0</td>\n    </tr>\n    <tr>\n      <th>2</th>\n      <td>16.0</td>\n      <td>6.0</td>\n    </tr>\n    <tr>\n      <th rowspan=\"2\" valign=\"top\">STANFORD</th>\n      <th>1</th>\n      <td>16.0</td>\n      <td>4.0</td>\n    </tr>\n    <tr>\n      <th>2</th>\n      <td>16.0</td>\n      <td>4.0</td>\n    </tr>\n    <tr>\n      <th rowspan=\"2\" valign=\"top\">TRINITY</th>\n      <th>1</th>\n      <td>24.0</td>\n      <td>NaN</td>\n    </tr>\n    <tr>\n      <th>2</th>\n      <td>25.0</td>\n      <td>NaN</td>\n    </tr>\n    <tr>\n      <th rowspan=\"2\" valign=\"top\">UCLA_1</th>\n      <th>1</th>\n      <td>42.0</td>\n      <td>7.0</td>\n    </tr>\n    <tr>\n      <th>2</th>\n      <td>29.0</td>\n      <td>4.0</td>\n    </tr>\n    <tr>\n      <th rowspan=\"2\" valign=\"top\">UCLA_2</th>\n      <th>1</th>\n      <td>13.0</td>\n      <td>NaN</td>\n    </tr>\n    <tr>\n      <th>2</th>\n      <td>12.0</td>\n      <td>2.0</td>\n    </tr>\n    <tr>\n      <th rowspan=\"2\" valign=\"top\">UM_1</th>\n      <th>1</th>\n      <td>46.0</td>\n      <td>9.0</td>\n    </tr>\n    <tr>\n      <th>2</th>\n      <td>38.0</td>\n      <td>17.0</td>\n    </tr>\n    <tr>\n      <th rowspan=\"2\" valign=\"top\">UM_2</th>\n      <th>1</th>\n      <td>12.0</td>\n      <td>1.0</td>\n    </tr>\n    <tr>\n      <th>2</th>\n      <td>21.0</td>\n      <td>1.0</td>\n    </tr>\n    <tr>\n      <th rowspan=\"2\" valign=\"top\">USM</th>\n      <th>1</th>\n      <td>58.0</td>\n      <td>NaN</td>\n    </tr>\n    <tr>\n      <th>2</th>\n      <td>43.0</td>\n      <td>NaN</td>\n    </tr>\n    <tr>\n      <th rowspan=\"2\" valign=\"top\">YALE</th>\n      <th>1</th>\n      <td>20.0</td>\n      <td>8.0</td>\n    </tr>\n    <tr>\n      <th>2</th>\n      <td>20.0</td>\n      <td>8.0</td>\n    </tr>\n  </tbody>\n</table>\n</div>"
     },
     "metadata": {},
     "execution_count": 4
    }
   ],
   "source": [
    "meta_df.groupby([\"SITE_ID\", \"DX_GROUP\", \"SEX\"]).size().unstack()"
   ]
  },
  {
   "cell_type": "code",
   "execution_count": 6,
   "metadata": {},
   "outputs": [
    {
     "output_type": "stream",
     "name": "stdout",
     "text": [
      "diseased  normal\n"
     ]
    }
   ],
   "source": [
    "!ls $corr_mat_dir"
   ]
  },
  {
   "cell_type": "code",
   "execution_count": 7,
   "metadata": {},
   "outputs": [
    {
     "output_type": "stream",
     "name": "stdout",
     "text": [
      "Caltech_0051456_power.npy   Pitt_0050025_power.npy\nCaltech_0051457_power.npy   Pitt_0050027_power.npy\nCaltech_0051458_power.npy   Pitt_0050029_power.npy\nCaltech_0051459_power.npy   SBL_0051571_power.npy\nCaltech_0051460_power.npy   SBL_0051572_power.npy\nCaltech_0051461_power.npy   SBL_0051573_power.npy\nCaltech_0051462_power.npy   SBL_0051574_power.npy\nCaltech_0051463_power.npy   SBL_0051576_power.npy\nCaltech_0051464_power.npy   SBL_0051577_power.npy\nCaltech_0051465_power.npy   SBL_0051578_power.npy\nCaltech_0051466_power.npy   SBL_0051579_power.npy\nCaltech_0051467_power.npy   SBL_0051580_power.npy\nCaltech_0051468_power.npy   SBL_0051581_power.npy\nCaltech_0051469_power.npy   SBL_0051582_power.npy\nCaltech_0051470_power.npy   SBL_0051583_power.npy\nCaltech_0051471_power.npy   SBL_0051584_power.npy\nCaltech_0051472_power.npy   SBL_0051585_power.npy\nCaltech_0051473_power.npy   SDSU_0050182_power.npy\nCaltech_0051474_power.npy   SDSU_0050183_power.npy\nCMU_a_0050649_power.npy     SDSU_0050207_power.npy\nCMU_a_0050653_power.npy     SDSU_0050212_power.npy\nCMU_b_0050651_power.npy     SDSU_0050216_power.npy\nKKI_0050791_power.npy\t    Stanford_0051160_power.npy\nKKI_0050792_power.npy\t    Stanford_0051162_power.npy\nKKI_0050795_power.npy\t    Stanford_0051163_power.npy\nKKI_0050798_power.npy\t    Stanford_0051164_power.npy\nKKI_0050799_power.npy\t    Stanford_0051165_power.npy\nKKI_0050800_power.npy\t    Stanford_0051167_power.npy\nKKI_0050802_power.npy\t    Stanford_0051168_power.npy\nKKI_0050803_power.npy\t    Stanford_0051169_power.npy\nKKI_0050804_power.npy\t    Stanford_0051170_power.npy\nKKI_0050823_power.npy\t    Stanford_0051171_power.npy\nKKI_0050824_power.npy\t    Stanford_0051172_power.npy\nKKI_0050825_power.npy\t    Stanford_0051173_power.npy\nLeuven_1_0050686_power.npy  Stanford_0051174_power.npy\nLeuven_1_0050689_power.npy  Stanford_0051175_power.npy\nLeuven_1_0050690_power.npy  Stanford_0051177_power.npy\nLeuven_1_0050693_power.npy  Stanford_0051178_power.npy\nLeuven_1_0050694_power.npy  Stanford_0051179_power.npy\nLeuven_1_0050695_power.npy  Trinity_0050232_power.npy\nLeuven_1_0050696_power.npy  Trinity_0050233_power.npy\nLeuven_1_0050697_power.npy  Trinity_0050234_power.npy\nLeuven_1_0050700_power.npy  Trinity_0050235_power.npy\nLeuven_1_0050702_power.npy  Trinity_0050236_power.npy\nLeuven_1_0050704_power.npy  Trinity_0050237_power.npy\nLeuven_1_0050705_power.npy  Trinity_0050239_power.npy\nLeuven_1_0050708_power.npy  Trinity_0050240_power.npy\nLeuven_1_0050711_power.npy  Trinity_0050241_power.npy\nLeuven_2_0050743_power.npy  Trinity_0050243_power.npy\nLeuven_2_0050745_power.npy  Trinity_0050245_power.npy\nLeuven_2_0050746_power.npy  Trinity_0050246_power.npy\nLeuven_2_0050747_power.npy  Trinity_0050247_power.npy\nLeuven_2_0050748_power.npy  Trinity_0050248_power.npy\nLeuven_2_0050749_power.npy  Trinity_0050249_power.npy\nLeuven_2_0050751_power.npy  Trinity_0050250_power.npy\nLeuven_2_0050752_power.npy  Trinity_0050251_power.npy\nLeuven_2_0050753_power.npy  Trinity_0050252_power.npy\nLeuven_2_0050754_power.npy  Trinity_0050253_power.npy\nLeuven_2_0050755_power.npy  Trinity_0050254_power.npy\nLeuven_2_0050756_power.npy  Trinity_0050255_power.npy\nLeuven_2_0050757_power.npy  UCLA_1_0051205_power.npy\nMaxMun_a_0051318_power.npy  UCLA_1_0051206_power.npy\nMaxMun_a_0051319_power.npy  UCLA_1_0051208_power.npy\nMaxMun_a_0051321_power.npy  UCLA_1_0051210_power.npy\nMaxMun_a_0051606_power.npy  UCLA_1_0051211_power.npy\nMaxMun_a_0051607_power.npy  UCLA_1_0051212_power.npy\nMaxMun_b_0051322_power.npy  UCLA_1_0051214_power.npy\nMaxMun_b_0051323_power.npy  UCLA_1_0051216_power.npy\nMaxMun_b_0051324_power.npy  UCLA_1_0051217_power.npy\nMaxMun_b_0051325_power.npy  UCLA_1_0051218_power.npy\nMaxMun_b_0051326_power.npy  UCLA_1_0051220_power.npy\nMaxMun_b_0051327_power.npy  UCLA_1_0051221_power.npy\nMaxMun_c_0051328_power.npy  UCLA_1_0051222_power.npy\nMaxMun_d_0051329_power.npy  UCLA_1_0051223_power.npy\nMaxMun_d_0051330_power.npy  UCLA_1_0051224_power.npy\nMaxMun_d_0051331_power.npy  UCLA_1_0051225_power.npy\nMaxMun_d_0051349_power.npy  UCLA_1_0051226_power.npy\nMaxMun_d_0051351_power.npy  UCLA_1_0051229_power.npy\nMaxMun_d_0051355_power.npy  UCLA_1_0051230_power.npy\nNYU_0050954_power.npy\t    UCLA_1_0051234_power.npy\nNYU_0050955_power.npy\t    UCLA_1_0051235_power.npy\nNYU_0050956_power.npy\t    UCLA_1_0051236_power.npy\nNYU_0050957_power.npy\t    UCLA_1_0051237_power.npy\nNYU_0050958_power.npy\t    UCLA_1_0051239_power.npy\nNYU_0050959_power.npy\t    UCLA_1_0051240_power.npy\nNYU_0050960_power.npy\t    UCLA_1_0051241_power.npy\nNYU_0050961_power.npy\t    UCLA_1_0051248_power.npy\nNYU_0050962_power.npy\t    UCLA_1_0051249_power.npy\nNYU_0050964_power.npy\t    UCLA_2_0051291_power.npy\nNYU_0050965_power.npy\t    UCLA_2_0051293_power.npy\nNYU_0050966_power.npy\t    UCLA_2_0051294_power.npy\nNYU_0050967_power.npy\t    UCLA_2_0051295_power.npy\nNYU_0050968_power.npy\t    UCLA_2_0051298_power.npy\nNYU_0050969_power.npy\t    UCLA_2_0051301_power.npy\nNYU_0050970_power.npy\t    UCLA_2_0051302_power.npy\nNYU_0050972_power.npy\t    UCLA_2_0051317_power.npy\nNYU_0050973_power.npy\t    UM_1_0050272_power.npy\nNYU_0050974_power.npy\t    UM_1_0050277_power.npy\nNYU_0050976_power.npy\t    UM_1_0050278_power.npy\nNYU_0050977_power.npy\t    UM_1_0050280_power.npy\nNYU_0050978_power.npy\t    UM_1_0050282_power.npy\nNYU_0050979_power.npy\t    UM_1_0050283_power.npy\nNYU_0050981_power.npy\t    UM_1_0050284_power.npy\nNYU_0050982_power.npy\t    UM_1_0050285_power.npy\nNYU_0050983_power.npy\t    UM_1_0050287_power.npy\nNYU_0050984_power.npy\t    UM_1_0050289_power.npy\nNYU_0050985_power.npy\t    UM_1_0050290_power.npy\nNYU_0050986_power.npy\t    UM_1_0050291_power.npy\nNYU_0050987_power.npy\t    UM_1_0050292_power.npy\nNYU_0050988_power.npy\t    UM_1_0050293_power.npy\nNYU_0050989_power.npy\t    UM_1_0050294_power.npy\nNYU_0050990_power.npy\t    UM_1_0050295_power.npy\nNYU_0050991_power.npy\t    UM_1_0050297_power.npy\nNYU_0050992_power.npy\t    UM_1_0050298_power.npy\nNYU_0050993_power.npy\t    UM_1_0050300_power.npy\nNYU_0050994_power.npy\t    UM_1_0050301_power.npy\nNYU_0050995_power.npy\t    UM_1_0050302_power.npy\nNYU_0050996_power.npy\t    UM_1_0050307_power.npy\nNYU_0050997_power.npy\t    UM_1_0050310_power.npy\nNYU_0050998_power.npy\t    UM_1_0050314_power.npy\nNYU_0050999_power.npy\t    UM_1_0050315_power.npy\nNYU_0051000_power.npy\t    UM_2_0050397_power.npy\nNYU_0051001_power.npy\t    UM_2_0050399_power.npy\nNYU_0051002_power.npy\t    UM_2_0050402_power.npy\nNYU_0051003_power.npy\t    UM_2_0050404_power.npy\nNYU_0051006_power.npy\t    UM_2_0050405_power.npy\nNYU_0051007_power.npy\t    UM_2_0050406_power.npy\nNYU_0051008_power.npy\t    UM_2_0050407_power.npy\nNYU_0051009_power.npy\t    UM_2_0050408_power.npy\nNYU_0051010_power.npy\t    UM_2_0050410_power.npy\nNYU_0051011_power.npy\t    UM_2_0050411_power.npy\nNYU_0051012_power.npy\t    UM_2_0050412_power.npy\nNYU_0051013_power.npy\t    UM_2_0050413_power.npy\nNYU_0051014_power.npy\t    USM_0050477_power.npy\nNYU_0051015_power.npy\t    USM_0050480_power.npy\nNYU_0051016_power.npy\t    USM_0050482_power.npy\nNYU_0051017_power.npy\t    USM_0050483_power.npy\nNYU_0051018_power.npy\t    USM_0050485_power.npy\nNYU_0051019_power.npy\t    USM_0050486_power.npy\nNYU_0051020_power.npy\t    USM_0050487_power.npy\nNYU_0051021_power.npy\t    USM_0050488_power.npy\nNYU_0051023_power.npy\t    USM_0050490_power.npy\nNYU_0051024_power.npy\t    USM_0050491_power.npy\nNYU_0051025_power.npy\t    USM_0050492_power.npy\nNYU_0051026_power.npy\t    USM_0050493_power.npy\nNYU_0051027_power.npy\t    USM_0050494_power.npy\nNYU_0051028_power.npy\t    USM_0050496_power.npy\nNYU_0051029_power.npy\t    USM_0050497_power.npy\nNYU_0051032_power.npy\t    USM_0050498_power.npy\nNYU_0051033_power.npy\t    USM_0050499_power.npy\nNYU_0051034_power.npy\t    USM_0050500_power.npy\nNYU_0051035_power.npy\t    USM_0050502_power.npy\nOHSU_0050142_power.npy\t    USM_0050503_power.npy\nOHSU_0050143_power.npy\t    USM_0050504_power.npy\nOHSU_0050144_power.npy\t    USM_0050505_power.npy\nOHSU_0050145_power.npy\t    USM_0050507_power.npy\nOHSU_0050146_power.npy\t    USM_0050514_power.npy\nOHSU_0050147_power.npy\t    USM_0050515_power.npy\nOHSU_0050148_power.npy\t    USM_0050516_power.npy\nOHSU_0050149_power.npy\t    USM_0050518_power.npy\nOHSU_0050150_power.npy\t    USM_0050519_power.npy\nOHSU_0050152_power.npy\t    USM_0050520_power.npy\nOHSU_0050153_power.npy\t    USM_0050521_power.npy\nOHSU_0050156_power.npy\t    USM_0050524_power.npy\nOlin_0050118_power.npy\t    USM_0050525_power.npy\nOlin_0050119_power.npy\t    USM_0050526_power.npy\nOlin_0050121_power.npy\t    USM_0050527_power.npy\nOlin_0050122_power.npy\t    USM_0050528_power.npy\nOlin_0050125_power.npy\t    USM_0050529_power.npy\nOlin_0050127_power.npy\t    USM_0050530_power.npy\nOlin_0050128_power.npy\t    USM_0050532_power.npy\nOlin_0050129_power.npy\t    Yale_0050601_power.npy\nOlin_0050130_power.npy\t    Yale_0050603_power.npy\nOlin_0050131_power.npy\t    Yale_0050604_power.npy\nOlin_0050132_power.npy\t    Yale_0050605_power.npy\nOlin_0050133_power.npy\t    Yale_0050606_power.npy\nOlin_0050134_power.npy\t    Yale_0050607_power.npy\nOlin_0050136_power.npy\t    Yale_0050609_power.npy\nPitt_0050004_power.npy\t    Yale_0050611_power.npy\nPitt_0050005_power.npy\t    Yale_0050612_power.npy\nPitt_0050006_power.npy\t    Yale_0050613_power.npy\nPitt_0050007_power.npy\t    Yale_0050614_power.npy\nPitt_0050008_power.npy\t    Yale_0050616_power.npy\nPitt_0050009_power.npy\t    Yale_0050617_power.npy\nPitt_0050010_power.npy\t    Yale_0050619_power.npy\nPitt_0050011_power.npy\t    Yale_0050620_power.npy\nPitt_0050012_power.npy\t    Yale_0050621_power.npy\nPitt_0050014_power.npy\t    Yale_0050623_power.npy\nPitt_0050015_power.npy\t    Yale_0050624_power.npy\nPitt_0050016_power.npy\t    Yale_0050625_power.npy\nPitt_0050020_power.npy\t    Yale_0050626_power.npy\nPitt_0050022_power.npy\t    Yale_0050627_power.npy\nPitt_0050023_power.npy\t    Yale_0050628_power.npy\nPitt_0050024_power.npy\n"
     ]
    }
   ],
   "source": [
    "!ls $corr_mat_dir/diseased"
   ]
  },
  {
   "cell_type": "code",
   "execution_count": null,
   "metadata": {},
   "outputs": [],
   "source": []
  }
 ]
}